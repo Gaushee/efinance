{
 "cells": [
  {
   "cell_type": "code",
   "execution_count": 1,
   "metadata": {},
   "outputs": [
    {
     "data": {
      "text/html": [
       "<pre style=\"white-space:pre;overflow-x:auto;line-height:normal;font-family:Menlo,'DejaVu Sans Mono',consolas,'Courier New',monospace\"><span style=\"font-weight: bold\">[</span><span style=\"color: #008080; text-decoration-color: #008080; font-weight: bold\">05</span>-<span style=\"color: #008080; text-decoration-color: #008080; font-weight: bold\">10</span> <span style=\"color: #00ff00; text-decoration-color: #00ff00; font-weight: bold\">02:06:53</span><span style=\"font-weight: bold\">]</span> 刷新\n",
       "</pre>\n"
      ],
      "text/plain": [
       "\u001b[1m[\u001b[0m\u001b[1;36m05\u001b[0m-\u001b[1;36m10\u001b[0m \u001b[1;92m02:06:53\u001b[0m\u001b[1m]\u001b[0m 刷新\n"
      ]
     },
     "metadata": {},
     "output_type": "display_data"
    },
    {
     "data": {
      "text/html": [
       "<pre style=\"white-space:pre;overflow-x:auto;line-height:normal;font-family:Menlo,'DejaVu Sans Mono',consolas,'Courier New',monospace\">股票代码: <span style=\"color: #008080; text-decoration-color: #008080; font-weight: bold\">002331</span>\n",
       "股票名称: 皖通科技\n",
       "总市值: <span style=\"color: #008080; text-decoration-color: #008080; font-weight: bold\">3138381510</span>\n",
       "换手率: <span style=\"color: #008080; text-decoration-color: #008080; font-weight: bold\">4.39</span>\n",
       "成交量: <span style=\"color: #008080; text-decoration-color: #008080; font-weight: bold\">170716.0</span>\n",
       "成绩额: <span style=\"color: #008080; text-decoration-color: #008080; font-weight: bold\">126470712.0</span>\n",
       "最新价: <span style=\"color: #008080; text-decoration-color: #008080; font-weight: bold\">7.65</span>\n",
       "- 封单情况 -\n",
       "买 <span style=\"color: #008080; text-decoration-color: #008080; font-weight: bold\">1</span>: <span style=\"color: #008080; text-decoration-color: #008080; font-weight: bold\">68176.0</span>\n",
       "买 <span style=\"color: #008080; text-decoration-color: #008080; font-weight: bold\">2</span>: <span style=\"color: #008080; text-decoration-color: #008080; font-weight: bold\">74.0</span>\n",
       "买 <span style=\"color: #008080; text-decoration-color: #008080; font-weight: bold\">3</span>: <span style=\"color: #008080; text-decoration-color: #008080; font-weight: bold\">7.0</span>\n",
       "买 <span style=\"color: #008080; text-decoration-color: #008080; font-weight: bold\">4</span>: <span style=\"color: #008080; text-decoration-color: #008080; font-weight: bold\">35.0</span>\n",
       "买 <span style=\"color: #008080; text-decoration-color: #008080; font-weight: bold\">5</span>: <span style=\"color: #008080; text-decoration-color: #008080; font-weight: bold\">82.0</span>\n",
       "- 刚涨停 -\n",
       "- 涨停保持秒数: <span style=\"color: #008080; text-decoration-color: #008080; font-weight: bold\">0</span> -\n",
       "</pre>\n"
      ],
      "text/plain": [
       "股票代码: \u001b[1;36m002331\u001b[0m\n",
       "股票名称: 皖通科技\n",
       "总市值: \u001b[1;36m3138381510\u001b[0m\n",
       "换手率: \u001b[1;36m4.39\u001b[0m\n",
       "成交量: \u001b[1;36m170716.0\u001b[0m\n",
       "成绩额: \u001b[1;36m126470712.0\u001b[0m\n",
       "最新价: \u001b[1;36m7.65\u001b[0m\n",
       "- 封单情况 -\n",
       "买 \u001b[1;36m1\u001b[0m: \u001b[1;36m68176.0\u001b[0m\n",
       "买 \u001b[1;36m2\u001b[0m: \u001b[1;36m74.0\u001b[0m\n",
       "买 \u001b[1;36m3\u001b[0m: \u001b[1;36m7.0\u001b[0m\n",
       "买 \u001b[1;36m4\u001b[0m: \u001b[1;36m35.0\u001b[0m\n",
       "买 \u001b[1;36m5\u001b[0m: \u001b[1;36m82.0\u001b[0m\n",
       "- 刚涨停 -\n",
       "- 涨停保持秒数: \u001b[1;36m0\u001b[0m -\n"
      ]
     },
     "metadata": {},
     "output_type": "display_data"
    },
    {
     "data": {
      "text/html": [
       "<pre style=\"white-space:pre;overflow-x:auto;line-height:normal;font-family:Menlo,'DejaVu Sans Mono',consolas,'Courier New',monospace\">股票代码: <span style=\"color: #008080; text-decoration-color: #008080; font-weight: bold\">002554</span>\n",
       "股票名称: 惠博普\n",
       "总市值: <span style=\"color: #008080; text-decoration-color: #008080; font-weight: bold\">6209014329</span>\n",
       "换手率: <span style=\"color: #008080; text-decoration-color: #008080; font-weight: bold\">1.2</span>\n",
       "成交量: <span style=\"color: #008080; text-decoration-color: #008080; font-weight: bold\">104414.0</span>\n",
       "成绩额: <span style=\"color: #008080; text-decoration-color: #008080; font-weight: bold\">48135020.0</span>\n",
       "最新价: <span style=\"color: #008080; text-decoration-color: #008080; font-weight: bold\">4.61</span>\n",
       "- 封单情况 -\n",
       "买 <span style=\"color: #008080; text-decoration-color: #008080; font-weight: bold\">1</span>: <span style=\"color: #008080; text-decoration-color: #008080; font-weight: bold\">160805.0</span>\n",
       "买 <span style=\"color: #008080; text-decoration-color: #008080; font-weight: bold\">2</span>: <span style=\"color: #008080; text-decoration-color: #008080; font-weight: bold\">6802.0</span>\n",
       "买 <span style=\"color: #008080; text-decoration-color: #008080; font-weight: bold\">3</span>: <span style=\"color: #008080; text-decoration-color: #008080; font-weight: bold\">57.0</span>\n",
       "买 <span style=\"color: #008080; text-decoration-color: #008080; font-weight: bold\">4</span>: <span style=\"color: #008080; text-decoration-color: #008080; font-weight: bold\">126.0</span>\n",
       "买 <span style=\"color: #008080; text-decoration-color: #008080; font-weight: bold\">5</span>: <span style=\"color: #008080; text-decoration-color: #008080; font-weight: bold\">178.0</span>\n",
       "- 刚涨停 -\n",
       "- 涨停保持秒数: <span style=\"color: #008080; text-decoration-color: #008080; font-weight: bold\">0</span> -\n",
       "</pre>\n"
      ],
      "text/plain": [
       "股票代码: \u001b[1;36m002554\u001b[0m\n",
       "股票名称: 惠博普\n",
       "总市值: \u001b[1;36m6209014329\u001b[0m\n",
       "换手率: \u001b[1;36m1.2\u001b[0m\n",
       "成交量: \u001b[1;36m104414.0\u001b[0m\n",
       "成绩额: \u001b[1;36m48135020.0\u001b[0m\n",
       "最新价: \u001b[1;36m4.61\u001b[0m\n",
       "- 封单情况 -\n",
       "买 \u001b[1;36m1\u001b[0m: \u001b[1;36m160805.0\u001b[0m\n",
       "买 \u001b[1;36m2\u001b[0m: \u001b[1;36m6802.0\u001b[0m\n",
       "买 \u001b[1;36m3\u001b[0m: \u001b[1;36m57.0\u001b[0m\n",
       "买 \u001b[1;36m4\u001b[0m: \u001b[1;36m126.0\u001b[0m\n",
       "买 \u001b[1;36m5\u001b[0m: \u001b[1;36m178.0\u001b[0m\n",
       "- 刚涨停 -\n",
       "- 涨停保持秒数: \u001b[1;36m0\u001b[0m -\n"
      ]
     },
     "metadata": {},
     "output_type": "display_data"
    },
    {
     "data": {
      "text/html": [
       "<pre style=\"white-space:pre;overflow-x:auto;line-height:normal;font-family:Menlo,'DejaVu Sans Mono',consolas,'Courier New',monospace\">股票代码: <span style=\"color: #008080; text-decoration-color: #008080; font-weight: bold\">600636</span>\n",
       "股票名称: 国新文化\n",
       "总市值: <span style=\"color: #008080; text-decoration-color: #008080; font-weight: bold\">7157296819</span>\n",
       "换手率: <span style=\"color: #008080; text-decoration-color: #008080; font-weight: bold\">0.52</span>\n",
       "成交量: <span style=\"color: #008080; text-decoration-color: #008080; font-weight: bold\">22690.0</span>\n",
       "成绩额: <span style=\"color: #008080; text-decoration-color: #008080; font-weight: bold\">36871234.0</span>\n",
       "最新价: <span style=\"color: #008080; text-decoration-color: #008080; font-weight: bold\">16.25</span>\n",
       "- 封单情况 -\n",
       "买 <span style=\"color: #008080; text-decoration-color: #008080; font-weight: bold\">1</span>: <span style=\"color: #008080; text-decoration-color: #008080; font-weight: bold\">264597.0</span>\n",
       "买 <span style=\"color: #008080; text-decoration-color: #008080; font-weight: bold\">2</span>: <span style=\"color: #008080; text-decoration-color: #008080; font-weight: bold\">903.0</span>\n",
       "买 <span style=\"color: #008080; text-decoration-color: #008080; font-weight: bold\">3</span>: <span style=\"color: #008080; text-decoration-color: #008080; font-weight: bold\">116.0</span>\n",
       "买 <span style=\"color: #008080; text-decoration-color: #008080; font-weight: bold\">4</span>: <span style=\"color: #008080; text-decoration-color: #008080; font-weight: bold\">47.0</span>\n",
       "买 <span style=\"color: #008080; text-decoration-color: #008080; font-weight: bold\">5</span>: <span style=\"color: #008080; text-decoration-color: #008080; font-weight: bold\">46.0</span>\n",
       "- 刚涨停 -\n",
       "- 涨停保持秒数: <span style=\"color: #008080; text-decoration-color: #008080; font-weight: bold\">0</span> -\n",
       "</pre>\n"
      ],
      "text/plain": [
       "股票代码: \u001b[1;36m600636\u001b[0m\n",
       "股票名称: 国新文化\n",
       "总市值: \u001b[1;36m7157296819\u001b[0m\n",
       "换手率: \u001b[1;36m0.52\u001b[0m\n",
       "成交量: \u001b[1;36m22690.0\u001b[0m\n",
       "成绩额: \u001b[1;36m36871234.0\u001b[0m\n",
       "最新价: \u001b[1;36m16.25\u001b[0m\n",
       "- 封单情况 -\n",
       "买 \u001b[1;36m1\u001b[0m: \u001b[1;36m264597.0\u001b[0m\n",
       "买 \u001b[1;36m2\u001b[0m: \u001b[1;36m903.0\u001b[0m\n",
       "买 \u001b[1;36m3\u001b[0m: \u001b[1;36m116.0\u001b[0m\n",
       "买 \u001b[1;36m4\u001b[0m: \u001b[1;36m47.0\u001b[0m\n",
       "买 \u001b[1;36m5\u001b[0m: \u001b[1;36m46.0\u001b[0m\n",
       "- 刚涨停 -\n",
       "- 涨停保持秒数: \u001b[1;36m0\u001b[0m -\n"
      ]
     },
     "metadata": {},
     "output_type": "display_data"
    },
    {
     "data": {
      "text/html": [
       "<pre style=\"white-space:pre;overflow-x:auto;line-height:normal;font-family:Menlo,'DejaVu Sans Mono',consolas,'Courier New',monospace\">股票代码: <span style=\"color: #008080; text-decoration-color: #008080; font-weight: bold\">600977</span>\n",
       "股票名称: 中国电影\n",
       "总市值: <span style=\"color: #008080; text-decoration-color: #008080; font-weight: bold\">34128760000</span>\n",
       "换手率: <span style=\"color: #008080; text-decoration-color: #008080; font-weight: bold\">2.23</span>\n",
       "成交量: <span style=\"color: #008080; text-decoration-color: #008080; font-weight: bold\">415412.0</span>\n",
       "成绩额: <span style=\"color: #008080; text-decoration-color: #008080; font-weight: bold\">755825664.0</span>\n",
       "最新价: <span style=\"color: #008080; text-decoration-color: #008080; font-weight: bold\">18.28</span>\n",
       "- 封单情况 -\n",
       "买 <span style=\"color: #008080; text-decoration-color: #008080; font-weight: bold\">1</span>: <span style=\"color: #008080; text-decoration-color: #008080; font-weight: bold\">93805.0</span>\n",
       "买 <span style=\"color: #008080; text-decoration-color: #008080; font-weight: bold\">2</span>: <span style=\"color: #008080; text-decoration-color: #008080; font-weight: bold\">4868.0</span>\n",
       "买 <span style=\"color: #008080; text-decoration-color: #008080; font-weight: bold\">3</span>: <span style=\"color: #008080; text-decoration-color: #008080; font-weight: bold\">49.0</span>\n",
       "买 <span style=\"color: #008080; text-decoration-color: #008080; font-weight: bold\">4</span>: <span style=\"color: #008080; text-decoration-color: #008080; font-weight: bold\">39.0</span>\n",
       "买 <span style=\"color: #008080; text-decoration-color: #008080; font-weight: bold\">5</span>: <span style=\"color: #008080; text-decoration-color: #008080; font-weight: bold\">57.0</span>\n",
       "- 刚涨停 -\n",
       "- 涨停保持秒数: <span style=\"color: #008080; text-decoration-color: #008080; font-weight: bold\">0</span> -\n",
       "</pre>\n"
      ],
      "text/plain": [
       "股票代码: \u001b[1;36m600977\u001b[0m\n",
       "股票名称: 中国电影\n",
       "总市值: \u001b[1;36m34128760000\u001b[0m\n",
       "换手率: \u001b[1;36m2.23\u001b[0m\n",
       "成交量: \u001b[1;36m415412.0\u001b[0m\n",
       "成绩额: \u001b[1;36m755825664.0\u001b[0m\n",
       "最新价: \u001b[1;36m18.28\u001b[0m\n",
       "- 封单情况 -\n",
       "买 \u001b[1;36m1\u001b[0m: \u001b[1;36m93805.0\u001b[0m\n",
       "买 \u001b[1;36m2\u001b[0m: \u001b[1;36m4868.0\u001b[0m\n",
       "买 \u001b[1;36m3\u001b[0m: \u001b[1;36m49.0\u001b[0m\n",
       "买 \u001b[1;36m4\u001b[0m: \u001b[1;36m39.0\u001b[0m\n",
       "买 \u001b[1;36m5\u001b[0m: \u001b[1;36m57.0\u001b[0m\n",
       "- 刚涨停 -\n",
       "- 涨停保持秒数: \u001b[1;36m0\u001b[0m -\n"
      ]
     },
     "metadata": {},
     "output_type": "display_data"
    },
    {
     "data": {
      "text/html": [
       "<pre style=\"white-space:pre;overflow-x:auto;line-height:normal;font-family:Menlo,'DejaVu Sans Mono',consolas,'Courier New',monospace\">股票代码: <span style=\"color: #008080; text-decoration-color: #008080; font-weight: bold\">600088</span>\n",
       "股票名称: 中视传媒\n",
       "总市值: <span style=\"color: #008080; text-decoration-color: #008080; font-weight: bold\">6307623504</span>\n",
       "换手率: <span style=\"color: #008080; text-decoration-color: #008080; font-weight: bold\">4.32</span>\n",
       "成交量: <span style=\"color: #008080; text-decoration-color: #008080; font-weight: bold\">171883.0</span>\n",
       "成绩额: <span style=\"color: #008080; text-decoration-color: #008080; font-weight: bold\">264666629.0</span>\n",
       "最新价: <span style=\"color: #008080; text-decoration-color: #008080; font-weight: bold\">15.86</span>\n",
       "- 封单情况 -\n",
       "买 <span style=\"color: #008080; text-decoration-color: #008080; font-weight: bold\">1</span>: <span style=\"color: #008080; text-decoration-color: #008080; font-weight: bold\">54608.0</span>\n",
       "买 <span style=\"color: #008080; text-decoration-color: #008080; font-weight: bold\">2</span>: <span style=\"color: #008080; text-decoration-color: #008080; font-weight: bold\">89.0</span>\n",
       "买 <span style=\"color: #008080; text-decoration-color: #008080; font-weight: bold\">3</span>: <span style=\"color: #008080; text-decoration-color: #008080; font-weight: bold\">18.0</span>\n",
       "买 <span style=\"color: #008080; text-decoration-color: #008080; font-weight: bold\">4</span>: <span style=\"color: #008080; text-decoration-color: #008080; font-weight: bold\">20.0</span>\n",
       "买 <span style=\"color: #008080; text-decoration-color: #008080; font-weight: bold\">5</span>: <span style=\"color: #008080; text-decoration-color: #008080; font-weight: bold\">160.0</span>\n",
       "- 刚涨停 -\n",
       "- 涨停保持秒数: <span style=\"color: #008080; text-decoration-color: #008080; font-weight: bold\">0</span> -\n",
       "</pre>\n"
      ],
      "text/plain": [
       "股票代码: \u001b[1;36m600088\u001b[0m\n",
       "股票名称: 中视传媒\n",
       "总市值: \u001b[1;36m6307623504\u001b[0m\n",
       "换手率: \u001b[1;36m4.32\u001b[0m\n",
       "成交量: \u001b[1;36m171883.0\u001b[0m\n",
       "成绩额: \u001b[1;36m264666629.0\u001b[0m\n",
       "最新价: \u001b[1;36m15.86\u001b[0m\n",
       "- 封单情况 -\n",
       "买 \u001b[1;36m1\u001b[0m: \u001b[1;36m54608.0\u001b[0m\n",
       "买 \u001b[1;36m2\u001b[0m: \u001b[1;36m89.0\u001b[0m\n",
       "买 \u001b[1;36m3\u001b[0m: \u001b[1;36m18.0\u001b[0m\n",
       "买 \u001b[1;36m4\u001b[0m: \u001b[1;36m20.0\u001b[0m\n",
       "买 \u001b[1;36m5\u001b[0m: \u001b[1;36m160.0\u001b[0m\n",
       "- 刚涨停 -\n",
       "- 涨停保持秒数: \u001b[1;36m0\u001b[0m -\n"
      ]
     },
     "metadata": {},
     "output_type": "display_data"
    },
    {
     "data": {
      "text/html": [
       "<pre style=\"white-space:pre;overflow-x:auto;line-height:normal;font-family:Menlo,'DejaVu Sans Mono',consolas,'Courier New',monospace\">股票代码: <span style=\"color: #008080; text-decoration-color: #008080; font-weight: bold\">600928</span>\n",
       "股票名称: 西安银行\n",
       "总市值: <span style=\"color: #008080; text-decoration-color: #008080; font-weight: bold\">20577777780</span>\n",
       "换手率: <span style=\"color: #008080; text-decoration-color: #008080; font-weight: bold\">1.55</span>\n",
       "成交量: <span style=\"color: #008080; text-decoration-color: #008080; font-weight: bold\">523566.0</span>\n",
       "成绩额: <span style=\"color: #008080; text-decoration-color: #008080; font-weight: bold\">242411100.0</span>\n",
       "最新价: <span style=\"color: #008080; text-decoration-color: #008080; font-weight: bold\">4.63</span>\n",
       "- 封单情况 -\n",
       "买 <span style=\"color: #008080; text-decoration-color: #008080; font-weight: bold\">1</span>: <span style=\"color: #008080; text-decoration-color: #008080; font-weight: bold\">325151.0</span>\n",
       "买 <span style=\"color: #008080; text-decoration-color: #008080; font-weight: bold\">2</span>: <span style=\"color: #008080; text-decoration-color: #008080; font-weight: bold\">1745.0</span>\n",
       "买 <span style=\"color: #008080; text-decoration-color: #008080; font-weight: bold\">3</span>: <span style=\"color: #008080; text-decoration-color: #008080; font-weight: bold\">4365.0</span>\n",
       "买 <span style=\"color: #008080; text-decoration-color: #008080; font-weight: bold\">4</span>: <span style=\"color: #008080; text-decoration-color: #008080; font-weight: bold\">862.0</span>\n",
       "买 <span style=\"color: #008080; text-decoration-color: #008080; font-weight: bold\">5</span>: <span style=\"color: #008080; text-decoration-color: #008080; font-weight: bold\">381.0</span>\n",
       "- 刚涨停 -\n",
       "- 涨停保持秒数: <span style=\"color: #008080; text-decoration-color: #008080; font-weight: bold\">0</span> -\n",
       "</pre>\n"
      ],
      "text/plain": [
       "股票代码: \u001b[1;36m600928\u001b[0m\n",
       "股票名称: 西安银行\n",
       "总市值: \u001b[1;36m20577777780\u001b[0m\n",
       "换手率: \u001b[1;36m1.55\u001b[0m\n",
       "成交量: \u001b[1;36m523566.0\u001b[0m\n",
       "成绩额: \u001b[1;36m242411100.0\u001b[0m\n",
       "最新价: \u001b[1;36m4.63\u001b[0m\n",
       "- 封单情况 -\n",
       "买 \u001b[1;36m1\u001b[0m: \u001b[1;36m325151.0\u001b[0m\n",
       "买 \u001b[1;36m2\u001b[0m: \u001b[1;36m1745.0\u001b[0m\n",
       "买 \u001b[1;36m3\u001b[0m: \u001b[1;36m4365.0\u001b[0m\n",
       "买 \u001b[1;36m4\u001b[0m: \u001b[1;36m862.0\u001b[0m\n",
       "买 \u001b[1;36m5\u001b[0m: \u001b[1;36m381.0\u001b[0m\n",
       "- 刚涨停 -\n",
       "- 涨停保持秒数: \u001b[1;36m0\u001b[0m -\n"
      ]
     },
     "metadata": {},
     "output_type": "display_data"
    },
    {
     "data": {
      "text/html": [
       "<pre style=\"white-space:pre;overflow-x:auto;line-height:normal;font-family:Menlo,'DejaVu Sans Mono',consolas,'Courier New',monospace\">股票代码: <span style=\"color: #008080; text-decoration-color: #008080; font-weight: bold\">600705</span>\n",
       "股票名称: 中航产融\n",
       "总市值: <span style=\"color: #008080; text-decoration-color: #008080; font-weight: bold\">39031658693</span>\n",
       "换手率: <span style=\"color: #008080; text-decoration-color: #008080; font-weight: bold\">3.08</span>\n",
       "成交量: <span style=\"color: #008080; text-decoration-color: #008080; font-weight: bold\">2707746.0</span>\n",
       "成绩额: <span style=\"color: #008080; text-decoration-color: #008080; font-weight: bold\">1160485328.0</span>\n",
       "最新价: <span style=\"color: #008080; text-decoration-color: #008080; font-weight: bold\">4.42</span>\n",
       "- 封单情况 -\n",
       "买 <span style=\"color: #008080; text-decoration-color: #008080; font-weight: bold\">1</span>: <span style=\"color: #008080; text-decoration-color: #008080; font-weight: bold\">612317.0</span>\n",
       "买 <span style=\"color: #008080; text-decoration-color: #008080; font-weight: bold\">2</span>: <span style=\"color: #008080; text-decoration-color: #008080; font-weight: bold\">6643.0</span>\n",
       "买 <span style=\"color: #008080; text-decoration-color: #008080; font-weight: bold\">3</span>: <span style=\"color: #008080; text-decoration-color: #008080; font-weight: bold\">5984.0</span>\n",
       "买 <span style=\"color: #008080; text-decoration-color: #008080; font-weight: bold\">4</span>: <span style=\"color: #008080; text-decoration-color: #008080; font-weight: bold\">1227.0</span>\n",
       "买 <span style=\"color: #008080; text-decoration-color: #008080; font-weight: bold\">5</span>: <span style=\"color: #008080; text-decoration-color: #008080; font-weight: bold\">1782.0</span>\n",
       "- 刚涨停 -\n",
       "- 涨停保持秒数: <span style=\"color: #008080; text-decoration-color: #008080; font-weight: bold\">0</span> -\n",
       "</pre>\n"
      ],
      "text/plain": [
       "股票代码: \u001b[1;36m600705\u001b[0m\n",
       "股票名称: 中航产融\n",
       "总市值: \u001b[1;36m39031658693\u001b[0m\n",
       "换手率: \u001b[1;36m3.08\u001b[0m\n",
       "成交量: \u001b[1;36m2707746.0\u001b[0m\n",
       "成绩额: \u001b[1;36m1160485328.0\u001b[0m\n",
       "最新价: \u001b[1;36m4.42\u001b[0m\n",
       "- 封单情况 -\n",
       "买 \u001b[1;36m1\u001b[0m: \u001b[1;36m612317.0\u001b[0m\n",
       "买 \u001b[1;36m2\u001b[0m: \u001b[1;36m6643.0\u001b[0m\n",
       "买 \u001b[1;36m3\u001b[0m: \u001b[1;36m5984.0\u001b[0m\n",
       "买 \u001b[1;36m4\u001b[0m: \u001b[1;36m1227.0\u001b[0m\n",
       "买 \u001b[1;36m5\u001b[0m: \u001b[1;36m1782.0\u001b[0m\n",
       "- 刚涨停 -\n",
       "- 涨停保持秒数: \u001b[1;36m0\u001b[0m -\n"
      ]
     },
     "metadata": {},
     "output_type": "display_data"
    },
    {
     "data": {
      "text/html": [
       "<pre style=\"white-space:pre;overflow-x:auto;line-height:normal;font-family:Menlo,'DejaVu Sans Mono',consolas,'Courier New',monospace\"><span style=\"font-weight: bold\">[</span><span style=\"color: #008080; text-decoration-color: #008080; font-weight: bold\">05</span>-<span style=\"color: #008080; text-decoration-color: #008080; font-weight: bold\">10</span> <span style=\"color: #00ff00; text-decoration-color: #00ff00; font-weight: bold\">02:06:59</span><span style=\"font-weight: bold\">]</span> 刷新\n",
       "</pre>\n"
      ],
      "text/plain": [
       "\u001b[1m[\u001b[0m\u001b[1;36m05\u001b[0m-\u001b[1;36m10\u001b[0m \u001b[1;92m02:06:59\u001b[0m\u001b[1m]\u001b[0m 刷新\n"
      ]
     },
     "metadata": {},
     "output_type": "display_data"
    },
    {
     "ename": "",
     "evalue": "",
     "output_type": "error",
     "traceback": [
      "\u001b[1;31mCanceled future for execute_request message before replies were done"
     ]
    },
    {
     "ename": "",
     "evalue": "",
     "output_type": "error",
     "traceback": [
      "\u001b[1;31m在当前单元格或上一个单元格中执行代码时 Kernel 崩溃。请查看单元格中的代码，以确定故障的可能原因。有关详细信息，请单击 <a href='https://aka.ms/vscodeJupyterKernelCrash'>此处</a>。有关更多详细信息，请查看 Jupyter <a href='command:jupyter.viewOutput'>log</a>。"
     ]
    }
   ],
   "source": [
    "from dailyLimit import watcher as wa\n",
    "wa.start()\n",
    "\n"
   ]
  },
  {
   "cell_type": "code",
   "execution_count": null,
   "metadata": {},
   "outputs": [],
   "source": [
    "dl.watcher.stop()"
   ]
  }
 ],
 "metadata": {
  "kernelspec": {
   "display_name": ".venv",
   "language": "python",
   "name": "python3"
  },
  "language_info": {
   "codemirror_mode": {
    "name": "ipython",
    "version": 3
   },
   "file_extension": ".py",
   "mimetype": "text/x-python",
   "name": "python",
   "nbconvert_exporter": "python",
   "pygments_lexer": "ipython3",
   "version": "3.11.1"
  },
  "orig_nbformat": 4
 },
 "nbformat": 4,
 "nbformat_minor": 2
}
